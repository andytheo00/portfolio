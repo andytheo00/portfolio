{
 "cells": [
  {
   "cell_type": "code",
   "execution_count": 5,
   "id": "7b74fc93",
   "metadata": {},
   "outputs": [],
   "source": [
    "import pandas as pd\n",
    "import numpy as np\n",
    "import matplotlib.pyplot as plt\n",
    "from sklearn.preprocessing import StandardScaler\n",
    "from sklearn.decomposition import PCA\n",
    "from sklearn.impute import SimpleImputer, KNNImputer\n",
    "import datetime as dt\n",
    "from sklearn.model_selection import train_test_split, GridSearchCV, cross_val_score, cross_validate\n",
    "from sklearn.tree import DecisionTreeRegressor, DecisionTreeClassifier\n",
    "from sklearn.ensemble import GradientBoostingRegressor, AdaBoostClassifier\n",
    "from sklearn.metrics import confusion_matrix, accuracy_score, roc_curve, auc, roc_auc_score\n",
    "import datetime as dt\n",
    "import eli5"
   ]
  },
  {
   "cell_type": "markdown",
   "id": "713e0456",
   "metadata": {},
   "source": [
    "# Boosting and Bagging \n",
    "\n",
    "This notebook intends to assess the accuracy of bagging and boosting methods.\n",
    "\n",
    "Here you will find three different sections. \n",
    "\n",
    "### Section A - Data Uploading & Train-Test Splits\n",
    "### Section B - Bagging Estimation\n",
    "### Section C - Boosting Estimation\n",
    "### Section D - Comparing the Different Equations"
   ]
  },
  {
   "cell_type": "markdown",
   "id": "d1d797ef",
   "metadata": {},
   "source": [
    "### Section A - Data Uplaing & Train-Test Splits\n",
    "\n",
    "We will be working mainly with the yearly dataset and setting the framework for conducting all the models. "
   ]
  },
  {
   "cell_type": "code",
   "execution_count": 36,
   "id": "1879b8af",
   "metadata": {},
   "outputs": [],
   "source": [
    "#Import yearly dataset\n",
    "data_annual = pd.read_csv(\"/Users/andytheo/Desktop/Harvard/Fall 2022/CS 109/Final Project/horn_panel_annual.csv\")\n",
    "\n",
    "#Remove infinity columns\n",
    "data_annual.replace([np.inf, -np.inf], np.nan, inplace=True)\n",
    "data_annual = data_annual.dropna()"
   ]
  },
  {
   "cell_type": "code",
   "execution_count": 39,
   "id": "0df673d1",
   "metadata": {},
   "outputs": [
    {
     "data": {
      "text/plain": [
       "dis2_code\n",
       "DJ0101    1\n",
       "DJ0102    4\n",
       "DJ0201    3\n",
       "DJ0202    3\n",
       "DJ0203    0\n",
       "         ..\n",
       "UG4131    6\n",
       "UG4132    4\n",
       "UG4133    8\n",
       "UG4134    1\n",
       "UG4135    2\n",
       "Name: violent_incident, Length: 711, dtype: int64"
      ]
     },
     "execution_count": 39,
     "metadata": {},
     "output_type": "execute_result"
    }
   ],
   "source": [
    "data_annual.groupby('dis2_code')['violent_incident'].sum()[data_annual]"
   ]
  },
  {
   "cell_type": "code",
   "execution_count": 7,
   "id": "efa8a3a7",
   "metadata": {},
   "outputs": [],
   "source": [
    "\n",
    "#Dropping the columns that are not necessary for our analysis. \n",
    "#Flood Area is a linear combination of Flooding, therefor it is dropped\n",
    "dropped_cols = ['dis2_code', 'flood_area_missing', 'demonstration', 'flood_area', 'Year']\n",
    "\n",
    "\n",
    "random_state = 42\n",
    "\n",
    "#Splitting our dataset into train and test\n",
    "data_train, data_test = train_test_split(data_annual, random_state = random_state, train_size = 0.8)\n",
    "data_train = data_train.drop(dropped_cols, axis =1)\n",
    "data_test = data_test.drop(dropped_cols, axis =1)\n",
    "\n",
    "X_train = data_train.drop('violent_incident', axis =1)\n",
    "X_test = data_test.drop('violent_incident', axis =1)\n",
    "y_train = data_train['violent_incident']\n",
    "y_test = data_test['violent_incident']"
   ]
  },
  {
   "cell_type": "code",
   "execution_count": 8,
   "id": "768dccb4",
   "metadata": {},
   "outputs": [
    {
     "data": {
      "text/html": [
       "<div>\n",
       "<style scoped>\n",
       "    .dataframe tbody tr th:only-of-type {\n",
       "        vertical-align: middle;\n",
       "    }\n",
       "\n",
       "    .dataframe tbody tr th {\n",
       "        vertical-align: top;\n",
       "    }\n",
       "\n",
       "    .dataframe thead th {\n",
       "        text-align: right;\n",
       "    }\n",
       "</style>\n",
       "<table border=\"1\" class=\"dataframe\">\n",
       "  <thead>\n",
       "    <tr style=\"text-align: right;\">\n",
       "      <th></th>\n",
       "      <th>drought</th>\n",
       "      <th>flooding</th>\n",
       "      <th>temperature</th>\n",
       "      <th>rainfall</th>\n",
       "      <th>log_pop</th>\n",
       "      <th>flooding_missing</th>\n",
       "      <th>hief</th>\n",
       "      <th>log_gdp</th>\n",
       "      <th>hdi</th>\n",
       "      <th>dis0_name_Eritrea</th>\n",
       "      <th>dis0_name_Kenya</th>\n",
       "      <th>dis0_name_Somalia</th>\n",
       "      <th>dis0_name_South Sudan</th>\n",
       "      <th>dis0_name_Sudan</th>\n",
       "      <th>dis0_name_Uganda</th>\n",
       "    </tr>\n",
       "  </thead>\n",
       "  <tbody>\n",
       "    <tr>\n",
       "      <th>11734</th>\n",
       "      <td>-0.111478</td>\n",
       "      <td>0.000000</td>\n",
       "      <td>34.226749</td>\n",
       "      <td>10.536215</td>\n",
       "      <td>12.697011</td>\n",
       "      <td>1.0</td>\n",
       "      <td>0.746000</td>\n",
       "      <td>8.085166</td>\n",
       "      <td>0.441</td>\n",
       "      <td>0.0</td>\n",
       "      <td>0.0</td>\n",
       "      <td>0.0</td>\n",
       "      <td>0.0</td>\n",
       "      <td>1.0</td>\n",
       "      <td>0.0</td>\n",
       "    </tr>\n",
       "    <tr>\n",
       "      <th>14214</th>\n",
       "      <td>-0.524467</td>\n",
       "      <td>0.000000</td>\n",
       "      <td>26.490996</td>\n",
       "      <td>85.282708</td>\n",
       "      <td>11.945901</td>\n",
       "      <td>1.0</td>\n",
       "      <td>0.747000</td>\n",
       "      <td>7.880584</td>\n",
       "      <td>0.424</td>\n",
       "      <td>0.0</td>\n",
       "      <td>0.0</td>\n",
       "      <td>0.0</td>\n",
       "      <td>1.0</td>\n",
       "      <td>0.0</td>\n",
       "      <td>0.0</td>\n",
       "    </tr>\n",
       "    <tr>\n",
       "      <th>10134</th>\n",
       "      <td>-0.387149</td>\n",
       "      <td>0.166667</td>\n",
       "      <td>23.633284</td>\n",
       "      <td>52.299815</td>\n",
       "      <td>12.536198</td>\n",
       "      <td>0.0</td>\n",
       "      <td>0.854857</td>\n",
       "      <td>8.118994</td>\n",
       "      <td>0.558</td>\n",
       "      <td>0.0</td>\n",
       "      <td>1.0</td>\n",
       "      <td>0.0</td>\n",
       "      <td>0.0</td>\n",
       "      <td>0.0</td>\n",
       "      <td>0.0</td>\n",
       "    </tr>\n",
       "    <tr>\n",
       "      <th>8732</th>\n",
       "      <td>-0.602434</td>\n",
       "      <td>0.166667</td>\n",
       "      <td>23.674167</td>\n",
       "      <td>165.093355</td>\n",
       "      <td>12.267308</td>\n",
       "      <td>0.0</td>\n",
       "      <td>0.854686</td>\n",
       "      <td>8.211494</td>\n",
       "      <td>0.561</td>\n",
       "      <td>0.0</td>\n",
       "      <td>1.0</td>\n",
       "      <td>0.0</td>\n",
       "      <td>0.0</td>\n",
       "      <td>0.0</td>\n",
       "      <td>0.0</td>\n",
       "    </tr>\n",
       "    <tr>\n",
       "      <th>3322</th>\n",
       "      <td>-0.526074</td>\n",
       "      <td>0.000000</td>\n",
       "      <td>23.663776</td>\n",
       "      <td>114.103924</td>\n",
       "      <td>11.473316</td>\n",
       "      <td>1.0</td>\n",
       "      <td>0.784000</td>\n",
       "      <td>6.935795</td>\n",
       "      <td>0.412</td>\n",
       "      <td>0.0</td>\n",
       "      <td>0.0</td>\n",
       "      <td>0.0</td>\n",
       "      <td>0.0</td>\n",
       "      <td>0.0</td>\n",
       "      <td>0.0</td>\n",
       "    </tr>\n",
       "  </tbody>\n",
       "</table>\n",
       "</div>"
      ],
      "text/plain": [
       "        drought  flooding  temperature    rainfall    log_pop  \\\n",
       "11734 -0.111478  0.000000    34.226749   10.536215  12.697011   \n",
       "14214 -0.524467  0.000000    26.490996   85.282708  11.945901   \n",
       "10134 -0.387149  0.166667    23.633284   52.299815  12.536198   \n",
       "8732  -0.602434  0.166667    23.674167  165.093355  12.267308   \n",
       "3322  -0.526074  0.000000    23.663776  114.103924  11.473316   \n",
       "\n",
       "       flooding_missing      hief   log_gdp    hdi  dis0_name_Eritrea  \\\n",
       "11734               1.0  0.746000  8.085166  0.441                0.0   \n",
       "14214               1.0  0.747000  7.880584  0.424                0.0   \n",
       "10134               0.0  0.854857  8.118994  0.558                0.0   \n",
       "8732                0.0  0.854686  8.211494  0.561                0.0   \n",
       "3322                1.0  0.784000  6.935795  0.412                0.0   \n",
       "\n",
       "       dis0_name_Kenya  dis0_name_Somalia  dis0_name_South Sudan  \\\n",
       "11734              0.0                0.0                    0.0   \n",
       "14214              0.0                0.0                    1.0   \n",
       "10134              1.0                0.0                    0.0   \n",
       "8732               1.0                0.0                    0.0   \n",
       "3322               0.0                0.0                    0.0   \n",
       "\n",
       "       dis0_name_Sudan  dis0_name_Uganda  \n",
       "11734              1.0               0.0  \n",
       "14214              0.0               0.0  \n",
       "10134              0.0               0.0  \n",
       "8732               0.0               0.0  \n",
       "3322               0.0               0.0  "
      ]
     },
     "execution_count": 8,
     "metadata": {},
     "output_type": "execute_result"
    }
   ],
   "source": [
    "#Test to see whether your dataset is valid\n",
    "X_train.head()"
   ]
  },
  {
   "cell_type": "markdown",
   "id": "a8f2b002",
   "metadata": {},
   "source": [
    "### Section B - Bagging Estimation"
   ]
  },
  {
   "cell_type": "code",
   "execution_count": 9,
   "id": "c761ecaf",
   "metadata": {},
   "outputs": [],
   "source": [
    "#Split the train for validation\n",
    "data_train80, data_val = train_test_split(data_train, random_state = random_state, train_size = 0.8)\n",
    "\n",
    "X_train80 = data_train80.drop('violent_incident', axis =1)\n",
    "X_val = data_val.drop('violent_incident', axis =1)\n",
    "y_train80 = data_train80['violent_incident']\n",
    "y_val = data_val['violent_incident']"
   ]
  },
  {
   "cell_type": "code",
   "execution_count": 10,
   "id": "163aa483",
   "metadata": {},
   "outputs": [],
   "source": [
    "#Creating functions to extract predictions for the bagged models and the OOB error\n",
    "\n",
    "def get_prediction(df):\n",
    "    return np.mean(df, axis=1)>0.5\n",
    "\n",
    "def get_oob_prediction(preds, oob_counts):\n",
    "    oob_idx = oob_counts > 0\n",
    "    oob_vote = np.sum(preds[oob_idx], axis=1)/oob_counts[oob_idx]\n",
    "    return oob_vote>0.5"
   ]
  },
  {
   "cell_type": "code",
   "execution_count": null,
   "id": "6ed362de",
   "metadata": {},
   "outputs": [],
   "source": [
    "#Setting the cross validation ro obtain the right amount of tree depth and minimize the instance of overfitting. \n",
    "\n",
    "n_trees = 100\n",
    "\n",
    "training_accuracies_cv = []\n",
    "val_accuracies_cv = []\n",
    "\n",
    "depths = np.arange(4, 100, 2)\n",
    "\n",
    "for i in depths:\n",
    "#Setting The Decision Tree Classifier\n",
    "    model = DecisionTreeClassifier(max_depth=i)\n",
    "#Because we are dealing with classification, we will obtain the majority voting of every row\n",
    "\n",
    "\n",
    "#Initializing variables\n",
    "    predictions_train80 = np.zeros(shape = (data_train80.shape[0], n_trees))\n",
    "    predictions_val  = np.zeros(shape = (data_val.shape[0],  n_trees))\n",
    "\n",
    "    predictions_oob = np.zeros(shape = (data_train80.shape[0], n_trees))\n",
    "    oob_samples_count = np.zeros(shape = (data_train80.shape[0], )) # how many times a sample is in oob\n",
    "\n",
    "    oob_accuracies = []\n",
    "#Conduct bootstraping iterations\n",
    "    for i in range(n_trees):\n",
    "        temp = data_train80.sample(frac=1, replace = True)\n",
    "        boot_y = temp['violent_incident']\n",
    "        boot_X = temp.drop(['violent_incident'], axis=1)\n",
    "    \n",
    "    # Train a decision tree\n",
    "        model.fit(boot_X, boot_y)  \n",
    "        predictions_train80[:,i] = model.predict(X_train80) \n",
    "        predictions_val[:,i] = model.predict(X_val)\n",
    "    \n",
    "        # Get OOB samples\n",
    "        oob_mask = ~np.isin(data_train80.index, temp.index)\n",
    "        oob_temp = data_train80[oob_mask]\n",
    "        X_oob = oob_temp.drop(['violent_incident'], axis=1)\n",
    "        y_oob = oob_temp['violent_incident']\n",
    "        oob_p = model.predict(X_oob)\n",
    "        predictions_oob[oob_mask, i] = oob_p # Update prediction results of this tree\n",
    "        oob_samples_count[oob_mask] += 1 # Increase the count of this sample being OOB\n",
    "    \n",
    "    training_accuracies_cv.append(accuracy_score(y_train80, get_prediction(predictions_train80)))\n",
    "    val_accuracies_cv.append(accuracy_score(y_val, get_prediction(predictions_val)))"
   ]
  },
  {
   "cell_type": "code",
   "execution_count": null,
   "id": "5e71f084",
   "metadata": {},
   "outputs": [],
   "source": [
    "#Plotting the CV errors\n",
    "\n",
    "plt.plot(depths, val_accuracies_cv, label = \"Validation\")\n",
    "plt.plot(depths, training_accuracies_cv, label = \"Training\")\n",
    "plt.legend()\n",
    "plt.ylabel(\"Accuracy Score\")\n",
    "plt.xlabel(\"Maximum Depth Condition\")\n",
    "plt.title(\"Finding the optimal max depth with 100 Bootstrapped Samples\")"
   ]
  },
  {
   "cell_type": "code",
   "execution_count": null,
   "id": "a76cf817",
   "metadata": {},
   "outputs": [],
   "source": [
    "best_depth = depths[np.argmax(val_accuracies_cv)]\n",
    "print(\"The best depth to be used for bagging is \", best_depth)"
   ]
  },
  {
   "cell_type": "code",
   "execution_count": 14,
   "id": "9816169b",
   "metadata": {},
   "outputs": [],
   "source": [
    "#Using the best depth for the our bagging estimators. \n",
    "best_depth = 32\n",
    "#Setting The Decision Tree Classifier\n",
    "model = DecisionTreeClassifier(max_depth=best_depth)\n",
    "#Because we are dealing with classification, we will obtain the majority voting of every row\n",
    "\n",
    "\n",
    "#Initializing variables\n",
    "predictions_train = np.zeros( shape = (data_train.shape[0], n_trees))\n",
    "predictions_test  = np.zeros( shape = (data_test.shape[0],  n_trees))\n",
    "\n",
    "predictions_oob = np.zeros(shape = (data_train.shape[0], n_trees))\n",
    "oob_samples_count = np.zeros(shape = (data_train.shape[0], )) # how many times a sample is in oob\n",
    "\n",
    "oob_accuracies = []\n",
    "#Conduct bootstraping iterations\n",
    "for i in range(n_trees):\n",
    "    temp = data_train.sample(frac=1, replace=True)\n",
    "    boot_y = temp['violent_incident']\n",
    "    boot_X = temp.drop(['violent_incident'], axis=1)\n",
    "    \n",
    "    # Train a decision tree\n",
    "    model.fit(boot_X, boot_y)  \n",
    "    predictions_train[:,i] = model.predict(X_train)   \n",
    "    predictions_test[:,i] = model.predict(X_test)\n",
    "    \n",
    "    # Get OOB samples\n",
    "    oob_mask = ~np.isin(data_train.index, temp.index)\n",
    "    oob_temp = data_train[oob_mask]\n",
    "    X_oob = oob_temp.drop(['violent_incident'], axis=1)\n",
    "    y_oob = oob_temp['violent_incident']\n",
    "    #Predict the OOB Samples\n",
    "    oob_p = model.predict(X_oob)\n",
    "    #Checking if the dataset is correct\n",
    "    predictions_oob[oob_mask, i] = oob_p # Update prediction results of this tree\n",
    "    oob_samples_count[oob_mask] += 1 # Increase the count of this sample being OOB"
   ]
  },
  {
   "cell_type": "code",
   "execution_count": 15,
   "id": "398d22cd",
   "metadata": {},
   "outputs": [],
   "source": [
    "#Obtaining the accuracy scores for train, test and OOB\n",
    "acc_bagging_training = 100*accuracy_score(y_train, get_prediction(predictions_train))\n",
    "acc_bagging_testing  = 100*accuracy_score(y_test, get_prediction(predictions_test))\n",
    "acc_bagging_oob = 100*accuracy_score(y_train, get_oob_prediction(predictions_oob, oob_samples_count))"
   ]
  },
  {
   "cell_type": "code",
   "execution_count": 16,
   "id": "7dce8690",
   "metadata": {},
   "outputs": [
    {
     "name": "stdout",
     "output_type": "stream",
     "text": [
      "Bagging: \tAccuracy, Training Set \t: 100.00%\n",
      "Bagging: \tAccuracy, Test Set \t: 80.13%\n",
      "Bagging: \tAccuracy, OOB Set \t: 80.16%\n"
     ]
    }
   ],
   "source": [
    "print(\"Bagging: \\tAccuracy, Training Set \\t: {:0.2f}%\".format(acc_bagging_training))\n",
    "print(\"Bagging: \\tAccuracy, Test Set \\t: {:0.2f}%\".format(acc_bagging_testing))\n",
    "print(\"Bagging: \\tAccuracy, OOB Set \\t: {:0.2f}%\".format(acc_bagging_oob))"
   ]
  },
  {
   "cell_type": "code",
   "execution_count": 17,
   "id": "0a030651",
   "metadata": {},
   "outputs": [
    {
     "name": "stdout",
     "output_type": "stream",
     "text": [
      "Bagging: \tFalse Positive Rate, Training Set \t: 17.80%\n",
      "Bagging: \tFalse Negative Rate, Test Set \t: 50.71%\n"
     ]
    }
   ],
   "source": [
    "#Extracting the False Negative Rate and False Positive Rate\n",
    "\n",
    "y_hat_bagging = model.predict_proba(X_test)\n",
    "\n",
    "conf_matrix_bagging = pd.crosstab(np.array(y_test), model.predict(X_test), margins=True, rownames=['Actual'], colnames=['Predicted'])\n",
    "\n",
    "fpr_bagging = conf_matrix_bagging[1][0]/conf_matrix_bagging['All'][0]*100\n",
    "fnr_bagging = conf_matrix_bagging[0][1]/conf_matrix_bagging['All'][1]*100\n",
    "\n",
    "\n",
    "print(\"Bagging: \\tFalse Positive Rate, Training Set \\t: {:0.2f}%\".format(fpr_bagging))\n",
    "print(\"Bagging: \\tFalse Negative Rate, Test Set \\t: {:0.2f}%\".format(fnr_bagging))"
   ]
  },
  {
   "cell_type": "markdown",
   "id": "68164a48",
   "metadata": {},
   "source": [
    "### Section C - Boosting Estimation"
   ]
  },
  {
   "cell_type": "code",
   "execution_count": null,
   "id": "36b8f772",
   "metadata": {},
   "outputs": [],
   "source": [
    "#Cross validation for the AdaBoost Classifier using 27 different trees\n",
    "learning_rate = 0.3\n",
    "n_estimators = np.arange(1, 800, 30)\n",
    "\n",
    "#Setting a depth of 2\n",
    "depth = 2\n",
    "\n",
    "val_scores = []\n",
    "train_scores = []\n",
    "\n",
    "for i in n_estimators: \n",
    "    ab = AdaBoostClassifier(base_estimator = DecisionTreeClassifier(max_depth = depth), n_estimators = i, \n",
    "                           learning_rate = learning_rate, \n",
    "                            random_state = random_state, algorithm = 'SAMME.R')\n",
    "    \n",
    "    cross_val = cross_val_score(ab, X_train, y_train, cv = 10, \n",
    "                               scoring = 'accuracy')\n",
    "    \n",
    "    val_scores.append(np.mean(cross_val))  \n",
    "    \n",
    "best_estimators = n_estimators[np.argmax(val_scores)]"
   ]
  },
  {
   "cell_type": "code",
   "execution_count": null,
   "id": "5a51ba45",
   "metadata": {},
   "outputs": [],
   "source": [
    "#Plotting the cross-validated errors for boosting\n",
    "plt.plot(n_estimators, val_scores, label = 'Train')\n",
    "plt.xlabel(\"Estimators\")\n",
    "plt.ylabel(\"Accuracy\")\n",
    "plt.title(\"Cross Validation Results for Boosting\")\n",
    "\n",
    "print(\"The best number of estimators is\", best_estimators)"
   ]
  },
  {
   "cell_type": "code",
   "execution_count": 22,
   "id": "2f42dfe8",
   "metadata": {},
   "outputs": [],
   "source": [
    "#Given how much time Boosting needs to run, we are hard-coding the estimator here in case we need to run this again\n",
    "best_estimators = 181\n",
    "best_boost = AdaBoostClassifier(base_estimator = DecisionTreeClassifier(max_depth = depth), \n",
    "                                n_estimators = best_estimators, \n",
    "                               learning_rate = learning_rate, \n",
    "                               random_state = random_state, algorithm = 'SAMME.R').fit(X_train, y_train)"
   ]
  },
  {
   "cell_type": "code",
   "execution_count": 23,
   "id": "a2fcc729",
   "metadata": {},
   "outputs": [
    {
     "name": "stdout",
     "output_type": "stream",
     "text": [
      "The train score is 0.8102736584620088 and test score is 0.7905839192907368\n"
     ]
    }
   ],
   "source": [
    "train_score = best_boost.score(X_train, y_train)\n",
    "test_score = best_boost.score(X_test, y_test)\n",
    "\n",
    "print(\"The train score is\", train_score, 'and test score is', test_score)"
   ]
  },
  {
   "cell_type": "code",
   "execution_count": 25,
   "id": "e64ee8be",
   "metadata": {},
   "outputs": [],
   "source": [
    "predictions_test_boosting = best_boost.predict(X_test)"
   ]
  },
  {
   "cell_type": "code",
   "execution_count": 26,
   "id": "a48116e0",
   "metadata": {},
   "outputs": [],
   "source": [
    "conf_matrix_boosting = pd.crosstab(np.array(y_test), best_boost.predict(X_test), margins=True, rownames=['Actual'], colnames=['Predicted'])\n",
    "\n",
    "\n",
    "fpr_boosting = conf_matrix_boosting[1][0]/conf_matrix_boosting['All'][0]*100\n",
    "fnr_boosting = conf_matrix_boosting[0][1]/conf_matrix_boosting['All'][1]*100\n"
   ]
  },
  {
   "cell_type": "code",
   "execution_count": 27,
   "id": "4f094b34",
   "metadata": {},
   "outputs": [
    {
     "name": "stdout",
     "output_type": "stream",
     "text": [
      "The false positive rate for Boosting is 5.508474576271186 and false negative rate is 60.922063666300765\n"
     ]
    },
    {
     "data": {
      "text/html": [
       "<div>\n",
       "<style scoped>\n",
       "    .dataframe tbody tr th:only-of-type {\n",
       "        vertical-align: middle;\n",
       "    }\n",
       "\n",
       "    .dataframe tbody tr th {\n",
       "        vertical-align: top;\n",
       "    }\n",
       "\n",
       "    .dataframe thead th {\n",
       "        text-align: right;\n",
       "    }\n",
       "</style>\n",
       "<table border=\"1\" class=\"dataframe\">\n",
       "  <thead>\n",
       "    <tr style=\"text-align: right;\">\n",
       "      <th>Predicted</th>\n",
       "      <th>0</th>\n",
       "      <th>1</th>\n",
       "      <th>All</th>\n",
       "    </tr>\n",
       "    <tr>\n",
       "      <th>Actual</th>\n",
       "      <th></th>\n",
       "      <th></th>\n",
       "      <th></th>\n",
       "    </tr>\n",
       "  </thead>\n",
       "  <tbody>\n",
       "    <tr>\n",
       "      <th>0</th>\n",
       "      <td>2230</td>\n",
       "      <td>130</td>\n",
       "      <td>2360</td>\n",
       "    </tr>\n",
       "    <tr>\n",
       "      <th>1</th>\n",
       "      <td>555</td>\n",
       "      <td>356</td>\n",
       "      <td>911</td>\n",
       "    </tr>\n",
       "    <tr>\n",
       "      <th>All</th>\n",
       "      <td>2785</td>\n",
       "      <td>486</td>\n",
       "      <td>3271</td>\n",
       "    </tr>\n",
       "  </tbody>\n",
       "</table>\n",
       "</div>"
      ],
      "text/plain": [
       "Predicted     0    1   All\n",
       "Actual                    \n",
       "0          2230  130  2360\n",
       "1           555  356   911\n",
       "All        2785  486  3271"
      ]
     },
     "execution_count": 27,
     "metadata": {},
     "output_type": "execute_result"
    }
   ],
   "source": [
    "\n",
    "print(\"The false positive rate for Boosting is\", fpr_boosting, \"and false negative rate is\", fnr_boosting)\n",
    "conf_matrix_boosting"
   ]
  },
  {
   "cell_type": "code",
   "execution_count": 28,
   "id": "de4691b2",
   "metadata": {},
   "outputs": [
    {
     "data": {
      "text/html": [
       "\n",
       "    <style>\n",
       "    table.eli5-weights tr:hover {\n",
       "        filter: brightness(85%);\n",
       "    }\n",
       "</style>\n",
       "\n",
       "\n",
       "\n",
       "    \n",
       "\n",
       "    \n",
       "\n",
       "    \n",
       "\n",
       "    \n",
       "\n",
       "    \n",
       "\n",
       "    \n",
       "\n",
       "\n",
       "    \n",
       "\n",
       "    \n",
       "\n",
       "    \n",
       "\n",
       "    \n",
       "\n",
       "    \n",
       "\n",
       "    \n",
       "\n",
       "\n",
       "    \n",
       "\n",
       "    \n",
       "\n",
       "    \n",
       "\n",
       "    \n",
       "\n",
       "    \n",
       "        <table class=\"eli5-weights eli5-feature-importances\" style=\"border-collapse: collapse; border: none; margin-top: 0em; table-layout: auto;\">\n",
       "    <thead>\n",
       "    <tr style=\"border: none;\">\n",
       "        <th style=\"padding: 0 1em 0 0.5em; text-align: right; border: none;\">Weight</th>\n",
       "        <th style=\"padding: 0 0.5em 0 0.5em; text-align: left; border: none;\">Feature</th>\n",
       "    </tr>\n",
       "    </thead>\n",
       "    <tbody>\n",
       "    \n",
       "        <tr style=\"background-color: hsl(120, 100.00%, 80.00%); border: none;\">\n",
       "            <td style=\"padding: 0 1em 0 0.5em; text-align: right; border: none;\">\n",
       "                0.0496\n",
       "                \n",
       "                    &plusmn; 0.0083\n",
       "                \n",
       "            </td>\n",
       "            <td style=\"padding: 0 0.5em 0 0.5em; text-align: left; border: none;\">\n",
       "                log_pop\n",
       "            </td>\n",
       "        </tr>\n",
       "    \n",
       "        <tr style=\"background-color: hsl(120, 100.00%, 80.77%); border: none;\">\n",
       "            <td style=\"padding: 0 1em 0 0.5em; text-align: right; border: none;\">\n",
       "                0.0469\n",
       "                \n",
       "                    &plusmn; 0.0089\n",
       "                \n",
       "            </td>\n",
       "            <td style=\"padding: 0 0.5em 0 0.5em; text-align: left; border: none;\">\n",
       "                rainfall\n",
       "            </td>\n",
       "        </tr>\n",
       "    \n",
       "        <tr style=\"background-color: hsl(120, 100.00%, 82.44%); border: none;\">\n",
       "            <td style=\"padding: 0 1em 0 0.5em; text-align: right; border: none;\">\n",
       "                0.0412\n",
       "                \n",
       "                    &plusmn; 0.0091\n",
       "                \n",
       "            </td>\n",
       "            <td style=\"padding: 0 0.5em 0 0.5em; text-align: left; border: none;\">\n",
       "                temperature\n",
       "            </td>\n",
       "        </tr>\n",
       "    \n",
       "        <tr style=\"background-color: hsl(120, 100.00%, 83.13%); border: none;\">\n",
       "            <td style=\"padding: 0 1em 0 0.5em; text-align: right; border: none;\">\n",
       "                0.0389\n",
       "                \n",
       "                    &plusmn; 0.0053\n",
       "                \n",
       "            </td>\n",
       "            <td style=\"padding: 0 0.5em 0 0.5em; text-align: left; border: none;\">\n",
       "                hief\n",
       "            </td>\n",
       "        </tr>\n",
       "    \n",
       "        <tr style=\"background-color: hsl(120, 100.00%, 90.26%); border: none;\">\n",
       "            <td style=\"padding: 0 1em 0 0.5em; text-align: right; border: none;\">\n",
       "                0.0178\n",
       "                \n",
       "                    &plusmn; 0.0070\n",
       "                \n",
       "            </td>\n",
       "            <td style=\"padding: 0 0.5em 0 0.5em; text-align: left; border: none;\">\n",
       "                log_gdp\n",
       "            </td>\n",
       "        </tr>\n",
       "    \n",
       "        <tr style=\"background-color: hsl(120, 100.00%, 90.52%); border: none;\">\n",
       "            <td style=\"padding: 0 1em 0 0.5em; text-align: right; border: none;\">\n",
       "                0.0171\n",
       "                \n",
       "                    &plusmn; 0.0092\n",
       "                \n",
       "            </td>\n",
       "            <td style=\"padding: 0 0.5em 0 0.5em; text-align: left; border: none;\">\n",
       "                drought\n",
       "            </td>\n",
       "        </tr>\n",
       "    \n",
       "        <tr style=\"background-color: hsl(120, 100.00%, 93.54%); border: none;\">\n",
       "            <td style=\"padding: 0 1em 0 0.5em; text-align: right; border: none;\">\n",
       "                0.0099\n",
       "                \n",
       "                    &plusmn; 0.0045\n",
       "                \n",
       "            </td>\n",
       "            <td style=\"padding: 0 0.5em 0 0.5em; text-align: left; border: none;\">\n",
       "                hdi\n",
       "            </td>\n",
       "        </tr>\n",
       "    \n",
       "        <tr style=\"background-color: hsl(120, 100.00%, 93.71%); border: none;\">\n",
       "            <td style=\"padding: 0 1em 0 0.5em; text-align: right; border: none;\">\n",
       "                0.0095\n",
       "                \n",
       "                    &plusmn; 0.0034\n",
       "                \n",
       "            </td>\n",
       "            <td style=\"padding: 0 0.5em 0 0.5em; text-align: left; border: none;\">\n",
       "                dis0_name_South Sudan\n",
       "            </td>\n",
       "        </tr>\n",
       "    \n",
       "        <tr style=\"background-color: hsl(120, 100.00%, 95.64%); border: none;\">\n",
       "            <td style=\"padding: 0 1em 0 0.5em; text-align: right; border: none;\">\n",
       "                0.0056\n",
       "                \n",
       "                    &plusmn; 0.0032\n",
       "                \n",
       "            </td>\n",
       "            <td style=\"padding: 0 0.5em 0 0.5em; text-align: left; border: none;\">\n",
       "                dis0_name_Sudan\n",
       "            </td>\n",
       "        </tr>\n",
       "    \n",
       "        <tr style=\"background-color: hsl(120, 100.00%, 97.20%); border: none;\">\n",
       "            <td style=\"padding: 0 1em 0 0.5em; text-align: right; border: none;\">\n",
       "                0.0030\n",
       "                \n",
       "                    &plusmn; 0.0025\n",
       "                \n",
       "            </td>\n",
       "            <td style=\"padding: 0 0.5em 0 0.5em; text-align: left; border: none;\">\n",
       "                flooding\n",
       "            </td>\n",
       "        </tr>\n",
       "    \n",
       "        <tr style=\"background-color: hsl(120, 100.00%, 97.81%); border: none;\">\n",
       "            <td style=\"padding: 0 1em 0 0.5em; text-align: right; border: none;\">\n",
       "                0.0021\n",
       "                \n",
       "                    &plusmn; 0.0021\n",
       "                \n",
       "            </td>\n",
       "            <td style=\"padding: 0 0.5em 0 0.5em; text-align: left; border: none;\">\n",
       "                dis0_name_Eritrea\n",
       "            </td>\n",
       "        </tr>\n",
       "    \n",
       "        <tr style=\"background-color: hsl(120, 100.00%, 98.40%); border: none;\">\n",
       "            <td style=\"padding: 0 1em 0 0.5em; text-align: right; border: none;\">\n",
       "                0.0013\n",
       "                \n",
       "                    &plusmn; 0.0020\n",
       "                \n",
       "            </td>\n",
       "            <td style=\"padding: 0 0.5em 0 0.5em; text-align: left; border: none;\">\n",
       "                dis0_name_Uganda\n",
       "            </td>\n",
       "        </tr>\n",
       "    \n",
       "        <tr style=\"background-color: hsl(120, 100.00%, 99.36%); border: none;\">\n",
       "            <td style=\"padding: 0 1em 0 0.5em; text-align: right; border: none;\">\n",
       "                0.0004\n",
       "                \n",
       "                    &plusmn; 0.0009\n",
       "                \n",
       "            </td>\n",
       "            <td style=\"padding: 0 0.5em 0 0.5em; text-align: left; border: none;\">\n",
       "                flooding_missing\n",
       "            </td>\n",
       "        </tr>\n",
       "    \n",
       "        <tr style=\"background-color: hsl(120, 100.00%, 100.00%); border: none;\">\n",
       "            <td style=\"padding: 0 1em 0 0.5em; text-align: right; border: none;\">\n",
       "                0.0000\n",
       "                \n",
       "                    &plusmn; 0.0011\n",
       "                \n",
       "            </td>\n",
       "            <td style=\"padding: 0 0.5em 0 0.5em; text-align: left; border: none;\">\n",
       "                dis0_name_Kenya\n",
       "            </td>\n",
       "        </tr>\n",
       "    \n",
       "        <tr style=\"background-color: hsl(0, 100.00%, 100.00%); border: none;\">\n",
       "            <td style=\"padding: 0 1em 0 0.5em; text-align: right; border: none;\">\n",
       "                0\n",
       "                \n",
       "                    &plusmn; 0.0000\n",
       "                \n",
       "            </td>\n",
       "            <td style=\"padding: 0 0.5em 0 0.5em; text-align: left; border: none;\">\n",
       "                dis0_name_Somalia\n",
       "            </td>\n",
       "        </tr>\n",
       "    \n",
       "    \n",
       "    </tbody>\n",
       "</table>\n",
       "    \n",
       "\n",
       "    \n",
       "\n",
       "\n",
       "    \n",
       "\n",
       "    \n",
       "\n",
       "    \n",
       "\n",
       "    \n",
       "\n",
       "    \n",
       "\n",
       "    \n",
       "\n",
       "\n",
       "\n"
      ],
      "text/plain": [
       "<IPython.core.display.HTML object>"
      ]
     },
     "execution_count": 28,
     "metadata": {},
     "output_type": "execute_result"
    }
   ],
   "source": [
    "from eli5.sklearn import PermutationImportance\n",
    "\n",
    "perm = PermutationImportance(best_boost, random_state= random_state, n_iter=10).fit(X_test, y_test)\n",
    "eli5.show_weights(perm, feature_names=X_train.columns.tolist())"
   ]
  },
  {
   "cell_type": "markdown",
   "id": "5cca329f",
   "metadata": {},
   "source": [
    "Let us re-run the model using the variables that the model classified as important. "
   ]
  },
  {
   "cell_type": "code",
   "execution_count": 29,
   "id": "5d866976",
   "metadata": {},
   "outputs": [],
   "source": [
    "variables_important = ['log_pop', 'rainfall', 'temperature', \n",
    "                       'hief', 'log_gdp', 'drought', 'hdi', 'dis0_name_South Sudan', \n",
    "                      'dis0_name_Sudan']\n",
    "\n",
    "X_train_imp = X_train[variables_important]\n",
    "X_test_imp = X_test[variables_important]"
   ]
  },
  {
   "cell_type": "code",
   "execution_count": 30,
   "id": "9793220d",
   "metadata": {},
   "outputs": [],
   "source": [
    "#Re run the boosting algorithm \n",
    "boost_imp = AdaBoostClassifier(base_estimator = DecisionTreeClassifier(max_depth = depth), \n",
    "                                n_estimators = best_estimators, \n",
    "                               learning_rate = learning_rate, \n",
    "                               random_state = random_state, algorithm = 'SAMME.R').fit(X_train_imp, y_train)"
   ]
  },
  {
   "cell_type": "code",
   "execution_count": 31,
   "id": "3b2125a1",
   "metadata": {},
   "outputs": [
    {
     "name": "stdout",
     "output_type": "stream",
     "text": [
      "The train score is 0.8067573765479285 and test score is 0.789972485478447\n"
     ]
    }
   ],
   "source": [
    "train_score = boost_imp.score(X_train_imp, y_train)\n",
    "test_score = boost_imp.score(X_test_imp, y_test)\n",
    "\n",
    "print(\"The train score is\", train_score, 'and test score is', test_score)\n",
    "\n",
    "predictions_test = boost_imp.predict(X_test_imp)\n",
    "conf_matrix = confusion_matrix(y_test, predictions_test)\n",
    "\n",
    "fpr= confusion_matrix(y_test, predictions_test)[0, 1]/ (confusion_matrix(y_test, predictions_test)[0, 1] + confusion_matrix(y_test, predictions_test)[0, 0])\n",
    "\n",
    "fnr= confusion_matrix(y_test, predictions_test)[1, 0]/ (confusion_matrix(y_test, predictions_test)[1, 1] + confusion_matrix(y_test, predictions_test)[1, 0])\n",
    "#After dropping the most important variables, the boosting algorithm performs worse. "
   ]
  },
  {
   "cell_type": "code",
   "execution_count": 32,
   "id": "6c55830a",
   "metadata": {},
   "outputs": [
    {
     "name": "stdout",
     "output_type": "stream",
     "text": [
      "The false positive rate for Boosting is 0.051694915254237285 and false negative rate is 0.6201975850713501\n"
     ]
    }
   ],
   "source": [
    "print(\"The false positive rate for Boosting is\", fpr, \"and false negative rate is\", fnr)"
   ]
  },
  {
   "cell_type": "code",
   "execution_count": 33,
   "id": "c99318d5",
   "metadata": {},
   "outputs": [],
   "source": [
    "#Comparing the ROC curves for both bagging and boosting\n",
    "\n",
    "model.predict_proba(X_test)\n",
    "fpr_bagging, tpr_bagging, thresholds = roc_curve(y_test, y_hat_bagging[:,1])\n",
    "\n",
    "fpr_boosting, tpr_boosting, thresholds = roc_curve(y_test, best_boost.predict_proba(X_test)[:,1])\n",
    "fpr_imp_boosting, tpr_imp_boosting, thresholds = roc_curve(y_test, boost_imp.predict_proba(X_test_imp)[:,1])\n"
   ]
  },
  {
   "cell_type": "markdown",
   "id": "f68d7d5b",
   "metadata": {},
   "source": [
    "### Comparing between the two models "
   ]
  },
  {
   "cell_type": "code",
   "execution_count": 34,
   "id": "f6d2dc70",
   "metadata": {},
   "outputs": [
    {
     "name": "stdout",
     "output_type": "stream",
     "text": [
      "0.657449440919831 0.8030233120616198 0.8026272581815475\n"
     ]
    }
   ],
   "source": [
    "auc_bagging = auc(fpr_bagging, tpr_bagging)\n",
    "auc_boosting = auc(fpr_boosting, tpr_boosting)\n",
    "auc_boosting_imp = auc(fpr_imp_boosting, tpr_imp_boosting)\n",
    "\n",
    "print(auc_bagging, auc_boosting, auc_boosting_imp)"
   ]
  },
  {
   "cell_type": "code",
   "execution_count": 35,
   "id": "90174231",
   "metadata": {},
   "outputs": [
    {
     "data": {
      "image/png": "[encoded data removed]",
      "text/plain": [
       "<Figure size 432x288 with 1 Axes>"
      ]
     },
     "metadata": {
      "needs_background": "light"
     },
     "output_type": "display_data"
    },
    {
     "data": {
      "text/plain": [
       "<Figure size 432x288 with 0 Axes>"
      ]
     },
     "metadata": {},
     "output_type": "display_data"
    }
   ],
   "source": [
    "x=np.arange(0,100)/100\n",
    "\n",
    "#Plotting the ROC for both models. \n",
    "\n",
    "plt.plot(x,x,'--',color=\"gray\",alpha=0.3)\n",
    "plt.plot(fpr_bagging,tpr_bagging, label = \"Bagging\")\n",
    "plt.plot(fpr_boosting, tpr_boosting, label = \"Boosting\")\n",
    "plt.legend()\n",
    "plt.ylabel(\"True Positive Rate\")\n",
    "plt.xlabel(\"False Positive Rate\")\n",
    "plt.title(\"False Positive Performance\")\n",
    "plt.show()\n",
    "\n",
    "plt.savefig('roc_boosting_bagging.png')"
   ]
  }
 ],
 "metadata": {
  "kernelspec": {
   "display_name": "Python 3 (ipykernel)",
   "language": "python",
   "name": "python3"
  },
  "language_info": {
   "codemirror_mode": {
    "name": "ipython",
    "version": 3
   },
   "file_extension": ".py",
   "mimetype": "text/x-python",
   "name": "python",
   "nbconvert_exporter": "python",
   "pygments_lexer": "ipython3",
   "version": "3.9.7"
  }
 },
 "nbformat": 4,
 "nbformat_minor": 5
}
